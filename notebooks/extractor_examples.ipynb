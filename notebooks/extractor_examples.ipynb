{
 "cells": [
  {
   "cell_type": "markdown",
   "metadata": {},
   "source": [
    "## Imports"
   ]
  },
  {
   "cell_type": "code",
   "execution_count": 1,
   "metadata": {},
   "outputs": [],
   "source": [
    "import sys\n",
    "import torch\n",
    "\n",
    "sys.path.append('../')\n",
    "from rel_extract.extractor import RelationExtractor\n",
    "from rel_extract.model import RelTaggerModel\n",
    "from transformers import BertModel\n",
    "from transformers import BertTokenizer"
   ]
  },
  {
   "cell_type": "markdown",
   "metadata": {},
   "source": [
    "## Loading the model"
   ]
  },
  {
   "cell_type": "code",
   "execution_count": null,
   "metadata": {},
   "outputs": [],
   "source": [
    "_filename = '../data/save_bert_large_with_squad0'\n",
    "\n",
    "MODEL = (BertModel, BertTokenizer, 'bert-large-uncased-whole-word-masking-finetuned-squad')\n",
    "model_class, tokenizer_class, pretrained_weights = MODEL\n",
    "tokenizer = tokenizer_class.from_pretrained(pretrained_weights)\n",
    "language_model = model_class.from_pretrained(pretrained_weights)\n",
    "model = RelTaggerModel(language_model)\n",
    "checkpoint = torch.load(_filename, map_location='cpu')\n",
    "model.load_state_dict(checkpoint['model_state_dict'])"
   ]
  },
  {
   "cell_type": "markdown",
   "metadata": {},
   "source": [
    "## Relation extraction examples"
   ]
  },
  {
   "cell_type": "code",
   "execution_count": null,
   "metadata": {},
   "outputs": [],
   "source": [
    "relations = ['noble title', 'founding date', 'occupation of a person']"
   ]
  },
  {
   "cell_type": "code",
   "execution_count": null,
   "metadata": {},
   "outputs": [],
   "source": [
    "extractor = RelationExtractor(model, tokenizer, relations)"
   ]
  },
  {
   "cell_type": "code",
   "execution_count": null,
   "metadata": {},
   "outputs": [],
   "source": [
    "extractor.rank(text='John Smith received an OBE', head='John Smith', tail='OBE')"
   ]
  },
  {
   "cell_type": "code",
   "execution_count": null,
   "metadata": {},
   "outputs": [],
   "source": [
    "extractor.rank(text='John Smith works as a carpenter', head='John Smith', tail='carpenter')"
   ]
  },
  {
   "cell_type": "code",
   "execution_count": null,
   "metadata": {},
   "outputs": [],
   "source": [
    "extractor.rank(text='Acme Inc. was founded in 1959', head='Acme Inc.', tail='1959')"
   ]
  },
  {
   "cell_type": "code",
   "execution_count": null,
   "metadata": {},
   "outputs": [],
   "source": []
  }
 ],
 "metadata": {
  "kernelspec": {
   "display_name": "fewrel",
   "language": "python",
   "name": "fewrel"
  },
  "language_info": {
   "codemirror_mode": {
    "name": "ipython",
    "version": 3
   },
   "file_extension": ".py",
   "mimetype": "text/x-python",
   "name": "python",
   "nbconvert_exporter": "python",
   "pygments_lexer": "ipython3",
   "version": "3.6.9"
  }
 },
 "nbformat": 4,
 "nbformat_minor": 4
}
